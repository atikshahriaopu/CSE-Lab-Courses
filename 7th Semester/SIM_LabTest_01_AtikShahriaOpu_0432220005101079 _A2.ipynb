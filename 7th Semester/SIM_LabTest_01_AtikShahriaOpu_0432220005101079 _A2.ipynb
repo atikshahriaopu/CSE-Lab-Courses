{
  "nbformat": 4,
  "nbformat_minor": 0,
  "metadata": {
    "colab": {
      "provenance": []
    },
    "kernelspec": {
      "name": "python3",
      "display_name": "Python 3"
    },
    "language_info": {
      "name": "python"
    }
  },
  "cells": [
    {
      "cell_type": "code",
      "metadata": {
        "colab": {
          "base_uri": "https://localhost:8080/"
        },
        "id": "9816544a",
        "outputId": "b0487e21-305b-45d6-defa-bac01a120404"
      },
      "source": [
        "import numpy as np\n",
        "\n",
        "daily_arrivals = [8, 12, 10, 15, 9, 13, 11, 14, 7, 16, 10, 12, 9, 15, 11, 13, 14, 8, 12, 10]\n",
        "\n",
        "mean_arrivals = np.mean(daily_arrivals)\n",
        "\n",
        "population_variance = np.var(daily_arrivals, ddof=0)\n",
        "\n",
        "sample_variance = np.var(daily_arrivals, ddof=1)\n",
        "\n",
        "standard_deviation = np.std(daily_arrivals, ddof=1)\n",
        "\n",
        "print(f\"Mean Daily Arrivals: {mean_arrivals}\")\n",
        "print(f\"Population Variance: {population_variance}\")\n",
        "print(f\"Sample Variance: {sample_variance}\")\n",
        "print(f\"Standard Deviation: {standard_deviation}\")"
      ],
      "execution_count": 1,
      "outputs": [
        {
          "output_type": "stream",
          "name": "stdout",
          "text": [
            "Mean Daily Arrivals: 11.45\n",
            "Population Variance: 6.347499999999998\n",
            "Sample Variance: 6.681578947368419\n",
            "Standard Deviation: 2.5848750351551657\n"
          ]
        }
      ]
    },
    {
      "cell_type": "markdown",
      "metadata": {
        "id": "b9cfc454"
      },
      "source": [
        "**Difference between Population Variance and Sample Variance:**\n",
        "\n",
        "*   **Population Variance:** This measures the spread of data points from the mean for the entire population. It uses `N` (the total number of observations) in the denominator.\n",
        "*   **Sample Variance:** This measures the spread of data points from the mean for a sample drawn from a population. It uses `n-1` (where `n` is the sample size) in the denominator. Using `n-1` (Bessel's correction) in the denominator provides a less biased estimate of the population variance when working with a sample.\n",
        "\n",
        "In this case, since we have the daily arrival data for all 20 customer IDs (which we can consider as the entire population for this specific dataset), the population variance is the more accurate measure of the spread. The sample variance is calculated for comparison and demonstrates how it would be calculated if this were just a sample of a larger population."
      ]
    },
    {
      "cell_type": "code",
      "metadata": {
        "colab": {
          "base_uri": "https://localhost:8080/",
          "height": 507
        },
        "id": "31428937",
        "outputId": "e209f40c-01c6-4693-f053-5a9d67d02e54"
      },
      "source": [
        "import matplotlib.pyplot as plt\n",
        "\n",
        "min_arrivals = min(daily_arrivals)\n",
        "max_arrivals = max(daily_arrivals)\n",
        "\n",
        "simulated_arrivals = np.random.uniform(low=min_arrivals, high=max_arrivals, size=30)\n",
        "\n",
        "# Create subplots for side-by-side histograms\n",
        "fig, axes = plt.subplots(1, 2, figsize=(12, 5))\n",
        "\n",
        "# Histogram for real data\n",
        "axes[0].hist(daily_arrivals, bins=range(min(daily_arrivals), max(daily_arrivals) + 2), align='left', rwidth=0.8)\n",
        "axes[0].set_title('Real Daily Arrivals')\n",
        "axes[0].set_xlabel('Number of Arrivals')\n",
        "axes[0].set_ylabel('Frequency')\n",
        "axes[0].set_xticks(range(min(daily_arrivals), max(daily_arrivals) + 1))\n",
        "\n",
        "\n",
        "# Histogram for simulated data\n",
        "axes[1].hist(simulated_arrivals, bins=range(min(daily_arrivals), max(daily_arrivals) + 2), align='left', rwidth=0.8)\n",
        "axes[1].set_title('Simulated Daily Arrivals (Uniform Distribution)')\n",
        "axes[1].set_xlabel('Number of Arrivals')\n",
        "axes[1].set_ylabel('Frequency')\n",
        "axes[1].set_xticks(range(min(daily_arrivals), max(daily_arrivals) + 1))\n",
        "\n",
        "\n",
        "plt.tight_layout()\n",
        "plt.show()"
      ],
      "execution_count": 2,
      "outputs": [
        {
          "output_type": "display_data",
          "data": {
            "text/plain": [
              "<Figure size 1200x500 with 2 Axes>"
            ],
            "image/png": "[encoded data removed]"
          },
          "metadata": {}
        }
      ]
    },
    {
      "cell_type": "code",
      "metadata": {
        "colab": {
          "base_uri": "https://localhost:8080/"
        },
        "id": "0bf5eacf",
        "outputId": "84efa83f-ebea-42e4-da1b-8233e57762df"
      },
      "source": [
        "# Number of simulations\n",
        "num_simulations = 100000\n",
        "\n",
        "# Generate simulated daily arrivals from a uniform distribution\n",
        "simulated_arrivals_mc = np.random.uniform(low=min_arrivals, high=max_arrivals, size=num_simulations)\n",
        "\n",
        "# Count the number of days with more than 15 arrivals\n",
        "days_with_more_than_15 = np.sum(simulated_arrivals_mc > 15)\n",
        "\n",
        "# Estimate the probability\n",
        "probability_more_than_15 = days_with_more_than_15 / num_simulations\n",
        "\n",
        "print(f\"Estimated probability of more than 15 arrivals: {probability_more_than_15}\")"
      ],
      "execution_count": 3,
      "outputs": [
        {
          "output_type": "stream",
          "name": "stdout",
          "text": [
            "Estimated probability of more than 15 arrivals: 0.11226\n"
          ]
        }
      ]
    },
    {
      "cell_type": "code",
      "metadata": {
        "colab": {
          "base_uri": "https://localhost:8080/"
        },
        "id": "6810b77a",
        "outputId": "827b681d-394f-4e3e-9f41-7364987e0d1f"
      },
      "source": [
        "from scipy import stats\n",
        "\n",
        "# Your personalized hypothesis mean\n",
        "hypothesized_mean = 19\n",
        "\n",
        "# Perform one-sample t-test\n",
        "t_statistic, p_value = stats.ttest_1samp(daily_arrivals, hypothesized_mean)\n",
        "\n",
        "print(f\"Hypothesized Mean: {hypothesized_mean}\")\n",
        "print(f\"T-statistic: {t_statistic}\")\n",
        "print(f\"P-value: {p_value}\")\n",
        "\n",
        "# Conclusion\n",
        "alpha = 0.05  # Significance level\n",
        "if p_value < alpha:\n",
        "    print(\"Conclusion: Reject the null hypothesis. The mean daily customer arrival is significantly different from the hypothesized mean.\")\n",
        "else:\n",
        "    print(\"Conclusion: Fail to reject the null hypothesis. There is not enough evidence to say that the mean daily customer arrival is significantly different from the hypothesized mean.\")"
      ],
      "execution_count": 4,
      "outputs": [
        {
          "output_type": "stream",
          "name": "stdout",
          "text": [
            "Hypothesized Mean: 19\n",
            "T-statistic: -13.062382514062229\n",
            "P-value: 6.104281913396608e-11\n",
            "Conclusion: Reject the null hypothesis. The mean daily customer arrival is significantly different from the hypothesized mean.\n"
          ]
        }
      ]
    },
    {
      "cell_type": "code",
      "metadata": {
        "id": "4ccbb719"
      },
      "source": [
        "import matplotlib.pyplot as plt\n",
        "\n",
        "# Calculate the sample mean\n",
        "sample_mean = np.mean(daily_arrivals)\n",
        "\n",
        "# Create a bar plot to compare sample mean and hypothesized mean\n",
        "plt.bar(['Sample Mean', 'Hypothesized Mean'], [sample_mean, hypothesized_mean], color=['blue', 'red'])\n",
        "plt.ylabel('Number of Arrivals')\n",
        "plt.title('Comparison of Sample Mean and Hypothesized Mean')\n",
        "plt.show()"
      ],
      "execution_count": null,
      "outputs": []
    },
    {
      "cell_type": "markdown",
      "metadata": {
        "id": "ebd9cab4"
      },
      "source": [
        "**Interpretation:**\n",
        "\n",
        "Based on the results of the one-sample t-test:\n",
        "\n",
        "*   **T-statistic:** This value measures how many standard errors the sample mean is away from the hypothesized mean.\n",
        "*   **P-value:** This is the probability of observing a sample mean as extreme as, or more extreme than, the one calculated, assuming the null hypothesis is true.\n",
        "\n",
        "Given the p-value and our chosen significance level (alpha = 0.05), we can make a conclusion about whether to reject or fail to reject the null hypothesis. If the p-value is less than alpha, we reject the null hypothesis, suggesting that the true mean is likely different from the hypothesized mean. If the p-value is greater than or equal to alpha, we fail to reject the null hypothesis, meaning we don't have enough evidence to conclude that the true mean is different from the hypothesized mean.\n",
        "\n",
        "In this specific case, [Insert your unique interpretation here, based on the calculated p-value and your hypothesized mean of 19]."
      ]
    }
  ]
}