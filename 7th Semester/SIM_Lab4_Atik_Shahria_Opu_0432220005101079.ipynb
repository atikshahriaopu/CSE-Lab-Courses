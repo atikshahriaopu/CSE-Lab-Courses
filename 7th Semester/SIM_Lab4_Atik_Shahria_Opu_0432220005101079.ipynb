{
  "nbformat": 4,
  "nbformat_minor": 0,
  "metadata": {
    "colab": {
      "provenance": [],
      "authorship_tag": "ABX9TyNvQwbnG5kHQ7GD3AcXBWnT",
      "include_colab_link": true
    },
    "kernelspec": {
      "name": "python3",
      "display_name": "Python 3"
    },
    "language_info": {
      "name": "python"
    }
  },
  "cells": [
    {
      "cell_type": "markdown",
      "metadata": {
        "id": "view-in-github",
        "colab_type": "text"
      },
      "source": [
        "<a href=\"https://colab.research.google.com/github/shariar-opu/CSE-Lab-Courses/blob/main/7th%20Semester/SIM_Lab4_Atik_Shahria_Opu_0432220005101079.ipynb\" target=\"_parent\"><img src=\"https://colab.research.google.com/assets/colab-badge.svg\" alt=\"Open In Colab\"/></a>"
      ]
    },
    {
      "cell_type": "code",
      "execution_count": 5,
      "metadata": {
        "colab": {
          "base_uri": "https://localhost:8080/"
        },
        "id": "A-aVNFEVoquC",
        "outputId": "2f4a720a-3045-4e3d-9f04-9257bec11443"
      },
      "outputs": [
        {
          "output_type": "stream",
          "name": "stdout",
          "text": [
            "Running simulation with radius=7.9, base points=2800\n",
            "\n",
            "Points: 2,800\n",
            "Estimate: 3.197143\n",
            "Actual π: 3.141593\n",
            "Error: 0.055550\n",
            "\n",
            "Points: 5,600\n",
            "Estimate: 3.155000\n",
            "Actual π: 3.141593\n",
            "Error: 0.013407\n",
            "\n",
            "Points: 8,400\n",
            "Estimate: 3.156190\n",
            "Actual π: 3.141593\n",
            "Error: 0.014598\n",
            "\n",
            "Points: 11,200\n",
            "Estimate: 3.146786\n",
            "Actual π: 3.141593\n",
            "Error: 0.005193\n",
            "\n",
            "Points: 14,000\n",
            "Estimate: 3.164571\n",
            "Actual π: 3.141593\n",
            "Error: 0.022979\n"
          ]
        }
      ],
      "source": [
        "import random\n",
        "import numpy as np\n",
        "import math\n",
        "\n",
        "NAME_LENGTH = 14  #atikshahriaopu\n",
        "ID_LAST_TWO = 79\n",
        "RADIUS = ID_LAST_TWO / 10\n",
        "BASE_POINTS = 200 * NAME_LENGTH\n",
        "\n",
        "def is_inside_circle(x, y, radius):\n",
        "    return x*x + y*y <= radius*radius\n",
        "\n",
        "def estimate_pi(total_points):\n",
        "    inside = 0\n",
        "\n",
        "    for _ in range(total_points // 2):\n",
        "        x = random.uniform(0, RADIUS)\n",
        "        y = random.uniform(0, RADIUS)\n",
        "        if is_inside_circle(x, y, RADIUS):\n",
        "            inside += 1\n",
        "\n",
        "    for _ in range(total_points // 2):\n",
        "        x = np.random.rand() * RADIUS\n",
        "        y = np.random.rand() * RADIUS\n",
        "        if is_inside_circle(x, y, RADIUS):\n",
        "            inside += 1\n",
        "\n",
        "    return 4 * inside / total_points\n",
        "\n",
        "# Main execution\n",
        "print(f\"Running simulation with radius={RADIUS}, base points={BASE_POINTS}\")\n",
        "\n",
        "for multiplier in [1, 2, 3, 4, 5]:\n",
        "    points = BASE_POINTS * multiplier\n",
        "    pi_estimate = estimate_pi(points)\n",
        "    error = abs(pi_estimate - math.pi)\n",
        "\n",
        "    print(f\"\\nPoints: {points:,}\")\n",
        "    print(f\"Estimate: {pi_estimate:.6f}\")\n",
        "    print(f\"Actual π: {math.pi:.6f}\")\n",
        "    print(f\"Error: {error:.6f}\")"
      ]
    }
  ]
}